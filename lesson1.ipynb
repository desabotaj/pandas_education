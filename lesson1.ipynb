{
 "cells": [
  {
   "cell_type": "markdown",
   "id": "2d9f658c",
   "metadata": {},
   "source": [
    "commit - фиксация изменений (локально)\n",
    "fork - операция клонирования репы в личный акк гитхаба для дальнейшего пул реквеста"
   ]
  }
 ],
 "metadata": {
  "language_info": {
   "name": "python"
  }
 },
 "nbformat": 4,
 "nbformat_minor": 5
}
